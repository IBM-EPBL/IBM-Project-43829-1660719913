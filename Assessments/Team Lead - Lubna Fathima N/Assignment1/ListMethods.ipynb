{
 "cells": [
  {
   "cell_type": "code",
   "execution_count": null,
   "metadata": {},
   "outputs": [],
   "source": [
    "# Consider a list (list = []). You can perform the following commands:\n",
    "# insert i e: Insert integer  at position .\n",
    "# print: Print the list.\n",
    "# remove e: Delete the first occurrence of integer .\n",
    "# append e: Insert integer  at the end of the list.\n",
    "# sort: Sort the list.\n",
    "# pop: Pop the last element from the list.\n",
    "# reverse: Reverse the list.\n",
    "# Initialize your list and read in the value of  followed by  lines of commands where each command will be of the  types listed above. Iterate through each command in order and perform the corresponding operation on your list.\n",
    "\n",
    "list = []\n",
    "list.insert(0, 5)\n",
    "list.insert(1, 3)\n",
    "list.insert(2, 12)\n",
    "print(list)\n",
    "list.remove(list[0])\n",
    "print(list)\n",
    "list.append(10)\n",
    "print(list)\n",
    "list.sort()\n",
    "print(list)\n",
    "list.pop(0)\n",
    "print(list)\n",
    "list.reverse()\n",
    "\n",
    "print(list)\n",
    "\n"
   ]
  },
  {
   "cell_type": "code",
   "execution_count": null,
   "metadata": {},
   "outputs": [],
   "source": []
  }
 ],
 "metadata": {
  "language_info": {
   "name": "python"
  },
  "orig_nbformat": 4
 },
 "nbformat": 4,
 "nbformat_minor": 2
}
