{
 "cells": [
  {
   "cell_type": "code",
   "execution_count": null,
   "metadata": {},
   "outputs": [],
   "source": [
    "# Write a program to concatenate, reverse and slice a string?\n",
    "\n",
    "str1 = str(input(\"Enter a string: \"))\n",
    "str2 = str(input(\"Enter another string: \"))\n",
    "concat = str1 + \" \" + str2\n",
    "print(concat)\n",
    "\n",
    "reverse = str1[::-1]\n",
    "print(reverse)\n",
    "\n",
    "slice = str2[3:8]\n",
    "print(slice)"
   ]
  }
 ],
 "metadata": {
  "language_info": {
   "name": "python"
  },
  "orig_nbformat": 4
 },
 "nbformat": 4,
 "nbformat_minor": 2
}
